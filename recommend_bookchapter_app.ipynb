{
 "cells": [
  {
   "cell_type": "code",
   "execution_count": 1,
   "metadata": {},
   "outputs": [],
   "source": [
    "import numpy as np\n",
    "import pandas as pd\n",
    "import networkx as nx\n",
    "from matplotlib import pyplot as plt\n",
    "from scipy import sparse\n",
    "from ipywidgets import interact, Select\n",
    "from IPython.display import display\n",
    "\n",
    "%matplotlib inline"
   ]
  },
  {
   "cell_type": "code",
   "execution_count": 2,
   "metadata": {},
   "outputs": [],
   "source": [
    "data = pd.read_csv('datasets/bookchapter_centrality_measures_df.csv', index_col='bookchapter')\n",
    "Graph1 = nx.readwrite.gexf.read_gexf('datasets/bookchapters_graph.gexf')\n",
    "bookchapter_list=sorted(data.index.unique().tolist())\n",
    "\n",
    "def produce_recommendation(bookchapter='', centrality_measure=''):\n",
    "    recommendation=data.loc[[n for n in Graph1[bookchapter]]]\n",
    "    recommendation.sort_values(by=[centrality_measure],ascending=False, inplace=True)\n",
    "    return recommendation"
   ]
  },
  {
   "cell_type": "markdown",
   "metadata": {},
   "source": [
    "# Manning Book Chapter Recommendations   \n",
    "### Powered by book chapter reading network<br>\n",
    "<br>\n",
    "<br>"
   ]
  },
  {
   "cell_type": "markdown",
   "metadata": {},
   "source": [
    "**Please select the book chapter you last read and what centrality measure you would like to use to order the recommendations.<br>\n",
    "Your recommended book chapter(s) will appear at the bottom** "
   ]
  },
  {
   "cell_type": "code",
   "execution_count": 5,
   "metadata": {},
   "outputs": [
    {
     "data": {
      "application/vnd.jupyter.widget-view+json": {
       "model_id": "2f0c0a17b67f49768869b3e07ce58911",
       "version_major": 2,
       "version_minor": 0
      },
      "text/plain": [
       "interactive(children=(Select(description='bookchapter', options=('abernethy2,  chapter-1', 'abernethy2,  chapt…"
      ]
     },
     "metadata": {},
     "output_type": "display_data"
    },
    {
     "data": {
      "text/plain": [
       "<function __main__.produce_recommendation(bookchapter='', centrality_measure='')>"
      ]
     },
     "metadata": {},
     "output_type": "display_data"
    }
   ],
   "source": [
    "centrality_measure_labels = ['out_degree', 'betweenness', 'eigen']\n",
    "bookchapter_dropdown = Select(options=bookchapter_list)\n",
    "recommendation_df = interact(produce_recommendation, bookchapter=bookchapter_dropdown, centrality_measure=centrality_measure_labels)\n",
    "display(recommendation_df)"
   ]
  },
  {
   "cell_type": "code",
   "execution_count": null,
   "metadata": {},
   "outputs": [],
   "source": []
  }
 ],
 "metadata": {
  "kernelspec": {
   "display_name": "Python 3",
   "language": "python",
   "name": "python3"
  },
  "language_info": {
   "codemirror_mode": {
    "name": "ipython",
    "version": 3
   },
   "file_extension": ".py",
   "mimetype": "text/x-python",
   "name": "python",
   "nbconvert_exporter": "python",
   "pygments_lexer": "ipython3",
   "version": "3.7.8"
  }
 },
 "nbformat": 4,
 "nbformat_minor": 4
}

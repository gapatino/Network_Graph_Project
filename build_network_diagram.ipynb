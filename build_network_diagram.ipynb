{
 "cells": [
  {
   "cell_type": "code",
   "execution_count": 1,
   "metadata": {},
   "outputs": [],
   "source": [
    "import numpy as np\n",
    "import pandas as pd\n",
    "import networkx as nx\n",
    "from matplotlib import pyplot as plt\n",
    "from scipy import sparse\n",
    "%matplotlib inline"
   ]
  },
  {
   "cell_type": "code",
   "execution_count": 2,
   "metadata": {
    "scrolled": false
   },
   "outputs": [
    {
     "data": {
      "text/html": [
       "<div>\n",
       "<style scoped>\n",
       "    .dataframe tbody tr th:only-of-type {\n",
       "        vertical-align: middle;\n",
       "    }\n",
       "\n",
       "    .dataframe tbody tr th {\n",
       "        vertical-align: top;\n",
       "    }\n",
       "\n",
       "    .dataframe thead th {\n",
       "        text-align: right;\n",
       "    }\n",
       "</style>\n",
       "<table border=\"1\" class=\"dataframe\">\n",
       "  <thead>\n",
       "    <tr style=\"text-align: right;\">\n",
       "      <th></th>\n",
       "      <th>user_id</th>\n",
       "      <th>number_of_ticks</th>\n",
       "      <th>date_created</th>\n",
       "      <th>chapter</th>\n",
       "      <th>book</th>\n",
       "      <th>numberofentriesofbook</th>\n",
       "      <th>numberofusersofbook</th>\n",
       "      <th>product_manning_id</th>\n",
       "      <th>user_owns_book</th>\n",
       "    </tr>\n",
       "  </thead>\n",
       "  <tbody>\n",
       "    <tr>\n",
       "      <th>0</th>\n",
       "      <td>-2147277864</td>\n",
       "      <td>1</td>\n",
       "      <td>\"2019-10-27 08:58:15\"</td>\n",
       "      <td>chapter-8</td>\n",
       "      <td>bhargava</td>\n",
       "      <td>888</td>\n",
       "      <td>440</td>\n",
       "      <td>610</td>\n",
       "      <td>1</td>\n",
       "    </tr>\n",
       "    <tr>\n",
       "      <th>1</th>\n",
       "      <td>-2146355313</td>\n",
       "      <td>8</td>\n",
       "      <td>\"2019-12-14 10:05:50\"</td>\n",
       "      <td>chapter-8</td>\n",
       "      <td>fain3</td>\n",
       "      <td>737</td>\n",
       "      <td>225</td>\n",
       "      <td>1069</td>\n",
       "      <td>1</td>\n",
       "    </tr>\n",
       "    <tr>\n",
       "      <th>2</th>\n",
       "      <td>-2146355313</td>\n",
       "      <td>8</td>\n",
       "      <td>\"2019-12-14 10:05:50\"</td>\n",
       "      <td>chapter-1</td>\n",
       "      <td>ramamurthy</td>\n",
       "      <td>715</td>\n",
       "      <td>202</td>\n",
       "      <td>1120</td>\n",
       "      <td>1</td>\n",
       "    </tr>\n",
       "    <tr>\n",
       "      <th>3</th>\n",
       "      <td>-2146355313</td>\n",
       "      <td>8</td>\n",
       "      <td>\"2019-12-14 10:05:50\"</td>\n",
       "      <td>chapter-1</td>\n",
       "      <td>thomas</td>\n",
       "      <td>445</td>\n",
       "      <td>136</td>\n",
       "      <td>816</td>\n",
       "      <td>1</td>\n",
       "    </tr>\n",
       "    <tr>\n",
       "      <th>4</th>\n",
       "      <td>-2146168866</td>\n",
       "      <td>2</td>\n",
       "      <td>\"2019-11-27 05:09:29\"</td>\n",
       "      <td>about-this-book</td>\n",
       "      <td>prasanna</td>\n",
       "      <td>21</td>\n",
       "      <td>14</td>\n",
       "      <td>273</td>\n",
       "      <td>0</td>\n",
       "    </tr>\n",
       "  </tbody>\n",
       "</table>\n",
       "</div>"
      ],
      "text/plain": [
       "      user_id  number_of_ticks            date_created          chapter  \\\n",
       "0 -2147277864                1   \"2019-10-27 08:58:15\"        chapter-8   \n",
       "1 -2146355313                8   \"2019-12-14 10:05:50\"        chapter-8   \n",
       "2 -2146355313                8   \"2019-12-14 10:05:50\"        chapter-1   \n",
       "3 -2146355313                8   \"2019-12-14 10:05:50\"        chapter-1   \n",
       "4 -2146168866                2   \"2019-11-27 05:09:29\"  about-this-book   \n",
       "\n",
       "         book  numberofentriesofbook  numberofusersofbook  product_manning_id  \\\n",
       "0    bhargava                    888                  440                 610   \n",
       "1       fain3                    737                  225                1069   \n",
       "2  ramamurthy                    715                  202                1120   \n",
       "3      thomas                    445                  136                 816   \n",
       "4    prasanna                     21                   14                 273   \n",
       "\n",
       "   user_owns_book  \n",
       "0               1  \n",
       "1               1  \n",
       "2               1  \n",
       "3               1  \n",
       "4               0  "
      ]
     },
     "execution_count": 2,
     "metadata": {},
     "output_type": "execute_result"
    }
   ],
   "source": [
    "data = pd.read_csv('datasets/dataset.csv')\n",
    "data.head()"
   ]
  },
  {
   "cell_type": "code",
   "execution_count": 3,
   "metadata": {},
   "outputs": [
    {
     "data": {
      "text/plain": [
       "Index(['user_id', 'number_of_ticks', 'date_created', 'chapter', 'book',\n",
       "       'numberofentriesofbook', 'numberofusersofbook', 'product_manning_id',\n",
       "       'user_owns_book'],\n",
       "      dtype='object')"
      ]
     },
     "execution_count": 3,
     "metadata": {},
     "output_type": "execute_result"
    }
   ],
   "source": [
    "data.columns"
   ]
  },
  {
   "cell_type": "code",
   "execution_count": 4,
   "metadata": {},
   "outputs": [
    {
     "data": {
      "text/plain": [
       "(4999, 9)"
      ]
     },
     "execution_count": 4,
     "metadata": {},
     "output_type": "execute_result"
    }
   ],
   "source": [
    "data.shape"
   ]
  },
  {
   "cell_type": "code",
   "execution_count": 5,
   "metadata": {},
   "outputs": [],
   "source": [
    "data.sort_values(by=['user_id', 'date_created'], inplace=True)\n",
    "data['source'] = data['book'] + data['chapter']\n",
    "data['target'] = data['source'].shift(-1)\n",
    "data['next_user'] = data['user_id'].shift(-1)\n",
    "data['keep_edge'] = np.where((data['user_id'] == data['next_user']), True , np.nan)\n",
    "data.dropna(subset=['keep_edge'], inplace=True)"
   ]
  },
  {
   "cell_type": "code",
   "execution_count": 6,
   "metadata": {},
   "outputs": [
    {
     "data": {
      "text/plain": [
       "(4358, 13)"
      ]
     },
     "execution_count": 6,
     "metadata": {},
     "output_type": "execute_result"
    }
   ],
   "source": [
    "data.shape"
   ]
  },
  {
   "cell_type": "code",
   "execution_count": 7,
   "metadata": {},
   "outputs": [
    {
     "data": {
      "image/png": "[encoded data removed]",
      "text/plain": [
       "<Figure size 432x288 with 1 Axes>"
      ]
     },
     "metadata": {},
     "output_type": "display_data"
    }
   ],
   "source": [
    "Graph1 = nx.from_pandas_edgelist(data, \"source\", \"target\", create_using=nx.DiGraph)\n",
    "nx.draw(Graph1)"
   ]
  },
  {
   "cell_type": "code",
   "execution_count": null,
   "metadata": {},
   "outputs": [],
   "source": []
  }
 ],
 "metadata": {
  "kernelspec": {
   "display_name": "Python 3",
   "language": "python",
   "name": "python3"
  },
  "language_info": {
   "codemirror_mode": {
    "name": "ipython",
    "version": 3
   },
   "file_extension": ".py",
   "mimetype": "text/x-python",
   "name": "python",
   "nbconvert_exporter": "python",
   "pygments_lexer": "ipython3",
   "version": "3.7.8"
  }
 },
 "nbformat": 4,
 "nbformat_minor": 4
}

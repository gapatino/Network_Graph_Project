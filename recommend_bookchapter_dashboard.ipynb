{
 "cells": [
  {
   "cell_type": "code",
   "execution_count": 1,
   "metadata": {},
   "outputs": [],
   "source": [
    "import numpy as np\n",
    "import pandas as pd\n",
    "import networkx as nx\n",
    "from matplotlib import pyplot as plt\n",
    "from scipy import sparse\n",
    "from ipywidgets import interact, Select\n",
    "from IPython.display import display\n",
    "\n",
    "%matplotlib inline"
   ]
  },
  {
   "cell_type": "markdown",
   "metadata": {},
   "source": [
    "Load the new dataset we had created in the second notebook where the index is each individual book chapter and the columns are the different centrality measures for it"
   ]
  },
  {
   "cell_type": "code",
   "execution_count": 2,
   "metadata": {},
   "outputs": [],
   "source": [
    "data = pd.read_csv('datasets/bookchapter_centrality_measures_df.csv', index_col='bookchapter')"
   ]
  },
  {
   "cell_type": "markdown",
   "metadata": {},
   "source": [
    "Load the NetworkX graph with the different book chapters that users read after each individual book chapter"
   ]
  },
  {
   "cell_type": "code",
   "execution_count": 3,
   "metadata": {
    "scrolled": true
   },
   "outputs": [],
   "source": [
    "Graph1 = nx.readwrite.gexf.read_gexf('datasets/bookchapters_graph.gexf')"
   ]
  },
  {
   "cell_type": "markdown",
   "metadata": {},
   "source": [
    "Create a list of all unique book chapters from the index column of the data dataframe"
   ]
  },
  {
   "cell_type": "code",
   "execution_count": 4,
   "metadata": {},
   "outputs": [],
   "source": [
    "bookchapter_list=sorted(data.index.unique().tolist())"
   ]
  },
  {
   "cell_type": "markdown",
   "metadata": {},
   "source": [
    "Use the same function as in the previous notebook to produce a dataframe of what book chapters to recommend after a user has read specific book chapter, organized by a specific centrality measure (eigenvalue is the default measure).  \n",
    "Notice that for the function to work with widgets we can't use type hints or default values in the function declaration."
   ]
  },
  {
   "cell_type": "code",
   "execution_count": 5,
   "metadata": {},
   "outputs": [],
   "source": [
    "def produce_recommendation(bookchapter='', centrality_measure=''):\n",
    "    recommendation=data.loc[[n for n in Graph1[bookchapter]]]\n",
    "    recommendation.sort_values(by=[centrality_measure],ascending=False, inplace=True)\n",
    "    return recommendation"
   ]
  },
  {
   "cell_type": "markdown",
   "metadata": {},
   "source": [
    "Create widgets"
   ]
  },
  {
   "cell_type": "code",
   "execution_count": 6,
   "metadata": {},
   "outputs": [
    {
     "data": {
      "application/vnd.jupyter.widget-view+json": {
       "model_id": "a1c6366e9820495f81a63304149fe47b",
       "version_major": 2,
       "version_minor": 0
      },
      "text/plain": [
       "interactive(children=(Select(description='bookchapter', options=('abernethy2,  chapter-1', 'abernethy2,  chapt…"
      ]
     },
     "metadata": {},
     "output_type": "display_data"
    },
    {
     "data": {
      "text/plain": [
       "<function __main__.produce_recommendation(bookchapter='', centrality_measure='')>"
      ]
     },
     "metadata": {},
     "output_type": "display_data"
    }
   ],
   "source": [
    "centrality_measure_labels = ['out_degree', 'betweenness', 'eigen']\n",
    "bookchapter_dropdown = Select(options=bookchapter_list)\n",
    "recommendation_df = interact(produce_recommendation, bookchapter=bookchapter_dropdown, centrality_measure=centrality_measure_labels)\n",
    "display(recommendation_df)"
   ]
  },
  {
   "cell_type": "markdown",
   "metadata": {},
   "source": [
    "For the Voila web app we have to turn this notebook into one where the Markdown cells are what we want to display in the dashboard and not explanations. Will create a new version called recommend_bookchapter_app"
   ]
  },
  {
   "cell_type": "code",
   "execution_count": null,
   "metadata": {},
   "outputs": [],
   "source": []
  }
 ],
 "metadata": {
  "kernelspec": {
   "display_name": "Python 3",
   "language": "python",
   "name": "python3"
  },
  "language_info": {
   "codemirror_mode": {
    "name": "ipython",
    "version": 3
   },
   "file_extension": ".py",
   "mimetype": "text/x-python",
   "name": "python",
   "nbconvert_exporter": "python",
   "pygments_lexer": "ipython3",
   "version": "3.7.8"
  }
 },
 "nbformat": 4,
 "nbformat_minor": 4
}
